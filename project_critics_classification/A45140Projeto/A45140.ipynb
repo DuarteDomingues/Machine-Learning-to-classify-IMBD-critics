{
 "cells": [
  {
   "cell_type": "code",
   "execution_count": 3,
   "metadata": {},
   "outputs": [],
   "source": [
    "from sklearn.datasets import load_files\n",
    "from sklearn.feature_extraction.text import TfidfVectorizer\n",
    "import re\n",
    "import numpy as np\n",
    "from nltk.stem import PorterStemmer,SnowballStemmer,LancasterStemmer\n",
    "from sklearn.linear_model import LogisticRegression\n",
    "from sklearn.model_selection import train_test_split\n",
    "import pickle as pickle\n",
    "from sklearn.naive_bayes import MultinomialNB,BernoulliNB\n",
    "from sklearn import metrics\n",
    "from sklearn.linear_model import LinearRegression\n",
    "from sklearn.pipeline import Pipeline\n",
    "from sklearn.preprocessing import PolynomialFeatures\n",
    "from sklearn.linear_model import Ridge\n",
    "from sklearn.model_selection import cross_val_score , GridSearchCV , RandomizedSearchCV\n",
    "from sklearn.metrics import confusion_matrix\n",
    "from sklearn.cluster import KMeans,MiniBatchKMeans\n",
    "from sklearn import cluster\n",
    "from sklearn.feature_extraction import text\n",
    "import matplotlib.pyplot as plt\n",
    "import matplotlib.cm as cm\n",
    "from sklearn.decomposition import PCA , TruncatedSVD\n",
    "from sklearn.metrics import silhouette_score\n",
    "from sklearn.preprocessing import Normalizer\n",
    "from sklearn.pipeline import make_pipeline\n",
    "from sklearn.metrics.pairwise import cosine_similarity\n",
    "from sklearn.linear_model import RidgeClassifier\n",
    "import scipy.spatial.distance as scdist\n",
    "from sklearn.metrics import accuracy_score"
   ]
  },
  {
   "cell_type": "markdown",
   "metadata": {},
   "source": [
    "# Carregar o dicionario dos dados treinados\n",
    "\n",
    "Inicialmente, a partir do ficheiro pickle são carregados os diferentes objectos do dicionário. Objetos do dicionario:\n",
    "\n",
    "1. tfidf - Representação tf-idf com os dados treinados.\n",
    "2. binClassLogReg - Classificador logistic Regression binário já treinado.\n",
    "3. multiClassLogReg - Classificador logistic Regression multi-classe já treinado.\n",
    "4. binClassBernoulli - Classificador naive bayes Bernoulli binário já treinado.\n",
    "5. multiClassRidge - Classificador Ridge multi-classe já treinado.\n",
    "6. dicMostImportantWords - Dicionário com as palavras mais importantes para diferentes clusters obtidos, para 30 clusters no processo de clustering.\n",
    "\n",
    "\n",
    "\n"
   ]
  },
  {
   "cell_type": "code",
   "execution_count": 4,
   "metadata": {},
   "outputs": [],
   "source": [
    "#carregar keys do dicionário do pickle\n",
    "dic = pickle.load( open( \"C:/Users/duart/OneDrive/Ambiente de Trabalho/ISEL/AA/A45140Projeto/dictionary_aa_45140.p\", \"rb\" ) )\n",
    "\n",
    "#dictionary_aa_45140 = {'tfidf':tfidf,'binClassLogReg':binClass,'multiClassLogReg':dlMulti,'binClassBernoulli':binClassBernoulli,'multiClassRidge':multiClassRidge}\n",
    "#dictionary_aa_45140 = {'tfidf':tfidfdic,'binClassLogReg':binClass,'multiClassLogReg':dlMulti}\n",
    "\n",
    "tfidf = dic['tfidf']\n",
    "binClassLogReg = dic['binClassLogReg']\n",
    "multiClassLogReg = dic['multiClassLogReg']\n",
    "binClassBernoulli = dic['binClassBernoulli']\n",
    "multiClassRidge = dic['multiClassRidge']\n",
    "dicMostImportantWordsData = dic['dicMostImportantWords']\n",
    "\n",
    "tokens = tfidf.get_feature_names() #tokens\n"
   ]
  },
  {
   "cell_type": "markdown",
   "metadata": {},
   "source": [
    "## Carregar listas de palavras a serem removidas no processo de pre-processamento de texto\n",
    "\n",
    "No processo de classificação não foram removidas palavras de uma lista em especifico.\n",
    "\n",
    "Porém, No processo de pre-processamento de texto para o clustering removeram-se as stop words, devido a estas não trazerem qualquer beneficio para separar os dados por grupos.\n",
    "\n",
    "Foram removidas um grupo de palavras, que apareciam regularmente nas palavras mais relevantes no cluster, porém, não adicionavam nenhum beneficio para separar os dados por grupos."
   ]
  },
  {
   "cell_type": "code",
   "execution_count": 5,
   "metadata": {},
   "outputs": [],
   "source": [
    "StopWords = text.ENGLISH_STOP_WORDS #frozen set das stop words da linguagem inglesa\n",
    "\n",
    "listStopWords = list(StopWords) #converter de frozen set para lista\n",
    "\n",
    "#lista de palavras para serem removidas no processo de stemming\n",
    "unwantedWords = ['film','movi','like','make','watch','realli','just','act','seen','plot','time','scene','end','look','actor','don','think']\n",
    "\n"
   ]
  },
  {
   "cell_type": "markdown",
   "metadata": {},
   "source": [
    "Esta função faz a limpeza do texto, retirando carateres não desejados e removendo o número de feautures. \n",
    "\n",
    "No caso do argumento clustering for True, é feita a remoção de palavras das listas referidas acima  para o clustering."
   ]
  },
  {
   "cell_type": "code",
   "execution_count": 6,
   "metadata": {},
   "outputs": [],
   "source": [
    "def clearText(docs,stemType=\"PorterStemmer\",clustering = False):\n",
    "    \n",
    "    stemFunc = None\n",
    "    \n",
    "\n",
    "    # TIPOS DE STEMMING\n",
    "    if (stemType == \"snowballStemmer\"):\n",
    "        stemFunc = SnowballStemmer('english')\n",
    "    \n",
    "    elif(stemType == \"PorterStemmer\"):\n",
    "        stemFunc = PorterStemmer()\n",
    "        \n",
    "    elif (stemType == \"LancasterStemmer\"):\n",
    "        stemFunc = LancasterStemmer()\n",
    "        \n",
    "        \n",
    "    #LIMPAR ESPAÇOS\n",
    "    docsPreProcessed =[i.replace('<br />',' ') for i in docs]\n",
    "    \n",
    "    \n",
    "    \n",
    "    if (clustering == True):\n",
    "        \n",
    "        #REMOVER AS STOP WORDS\n",
    "        docsPreProcessed= [' '.join(filter(lambda x: x.lower() not in listStopWords  ,  d.split()))for d in docsPreProcessed]\n",
    "        \n",
    "        #REMOVER CARATERES NAO DESEJADOS, MANTER A - Z, numeros e ^\n",
    "        docsPreProcessed =[re.sub(r\"[^a-zA-Z'\\u00C0-\\u00FF]+\",' ',doc) for doc in docsPreProcessed]\n",
    "    \n",
    "        #REALIZAR STEMMING\n",
    "        docsPreProcessed =[' '.join([stemFunc.stem(w) for w in d.split()]) for d in docsPreProcessed]\n",
    "        \n",
    "        #REMOVER PALAVRAS QUE NAO SAO UTEIS PARA O PROCESSO DE STEMMING DA lista unwantedWords defenida em cima\n",
    "        docsPreProcessed= [' '.join(filter(lambda x: x.lower() not in unwantedWords  ,  d.split()))for d in docsPreProcessed]\n",
    "        \n",
    "       \n",
    "\n",
    "    \n",
    "    else :\n",
    "        #REMOVER CARATERES NAO DESEJADOS, MANTER A - Z, numeros e ^\n",
    "        docsPreProcessed =[re.sub(r\"[^a-zA-Z0-9'\\u00C0-\\u00FF]+\",' ',doc) for doc in docsPreProcessed]\n",
    "        \n",
    "        #REALIZAR STEMMING\n",
    "        docsPreProcessed =[' '.join([stemFunc.stem(w) for w in d.split()]) for d in docsPreProcessed]\n",
    "        \n",
    "    return docsPreProcessed\n",
    "    \n",
    "        \n",
    "        \n",
    "    \n",
    "    \n",
    "    \n",
    "\n"
   ]
  },
  {
   "cell_type": "markdown",
   "metadata": {},
   "source": [
    "Esta Função  converte uma lista de strings na representação tfidf. \n",
    "\n",
    "Função utiliza um modelo tf-idf previamente treinado.\n",
    "\n",
    "Retorna uma matriz documento/termo (matrizX).\n",
    "\n"
   ]
  },
  {
   "cell_type": "code",
   "execution_count": 7,
   "metadata": {},
   "outputs": [],
   "source": [
    "def text2vector(docs):\n",
    "    \n",
    "    \n",
    "    #limpeza dos docs\n",
    "    docsProcessed = clearText(docs)\n",
    "    \n",
    "    #matriz documento / termo\n",
    "    X=tfidf.transform(docsProcessed) \n",
    "    \n",
    "    \n",
    "    return X"
   ]
  },
  {
   "cell_type": "markdown",
   "metadata": {},
   "source": [
    "Transformar o y para binario, y quando for superior a 6 é positivo, quando for inferior a 5 é negativo. Apôs isto pode ser realizada a classificação binária."
   ]
  },
  {
   "cell_type": "code",
   "execution_count": 8,
   "metadata": {},
   "outputs": [],
   "source": [
    "def transformYtoBinary(y):\n",
    "    l = []\n",
    "    for i in range (len(y)):\n",
    "        a=0\n",
    "        if y[i] > 6:\n",
    "            a = 1\n",
    "        else:\n",
    "            a = 0\n",
    "        l.append(a)\n",
    "    return l"
   ]
  },
  {
   "cell_type": "markdown",
   "metadata": {},
   "source": [
    "\n",
    "\n",
    "Função que retorna um array de números binários com o valor da classificação, classifica a matriz X devolvida pela função text2vector.\n",
    "\n",
    "Esta função usa um classificador previamente treinado, se logistic for true utiliza um classificador logistico binário, se logistic for false utiliza um classificador Naive Bayes Bernoulli."
   ]
  },
  {
   "cell_type": "code",
   "execution_count": 9,
   "metadata": {},
   "outputs": [],
   "source": [
    "def binClassify(X,logistic=True):\n",
    "    \n",
    "    if (logistic):\n",
    "        #classificador binário logistic regression treinado\n",
    "        predictBin = binClassLogReg.predict(X)\n",
    "    else:\n",
    "        #classificador binário naive Bayes Bernoulli regression treinado\n",
    "        predictBin = binClassBernoulli.predict(X)\n",
    "    \n",
    "    \n",
    "    return predictBin\n",
    "    \n",
    "    "
   ]
  },
  {
   "cell_type": "markdown",
   "metadata": {},
   "source": [
    "Função que retorna um array de números inteiros com o valor da classificação com valores entre (1-4) e (7-10), classifica a matriz X devolvida pela função text2vector.\n",
    "\n",
    "Esta função usa um classificador previamente treinado, se logistic for true utiliza um classificador logistico multiclasse, se logistic for false utiliza um classificador Ridge multiclasse."
   ]
  },
  {
   "cell_type": "code",
   "execution_count": 11,
   "metadata": {},
   "outputs": [],
   "source": [
    "def multiClassify(X, logistic=True):\n",
    "    \n",
    "    if (logistic):\n",
    "        #classificador multiclasse logistic regression treinado\n",
    "        predictMulti = multiClassLogReg.predict(X)\n",
    "    else:\n",
    "        #classificador multiclasse Ridge treinado\n",
    "        predictMulti = multiClassRidge.predict(X)\n",
    "    return predictMulti\n",
    "    \n",
    "    "
   ]
  },
  {
   "cell_type": "markdown",
   "metadata": {},
   "source": [
    "## Carregar os dados do ficheiro das criticas imbd\n",
    "\n",
    "1. data - Conjunto de 40 000 documentos de textos de criticas de cinema \n",
    "2. target - pontuações das criticas\n",
    "\n"
   ]
  },
  {
   "cell_type": "code",
   "execution_count": 12,
   "metadata": {},
   "outputs": [],
   "source": [
    "D = pickle.load( open( \"C:/Users/duart/OneDrive/Ambiente de Trabalho/ISEL/AA/trabalho_pratico/imdbCriticas/imdbCriticas.p\", \"rb\" ) )\n",
    "docs = D['data']\n",
    "y = D['target']\n",
    "\n"
   ]
  },
  {
   "cell_type": "markdown",
   "metadata": {},
   "source": [
    "No processo de classificação os dados foram divididos em dados de treino e de teste, de forma aleatória, com 30000 amostras para treino e 10000 para teste, usando o método train_test_split do sklearn.\n"
   ]
  },
  {
   "cell_type": "code",
   "execution_count": 18,
   "metadata": {},
   "outputs": [
    {
     "ename": "ValueError",
     "evalue": "Found input variables with inconsistent numbers of samples: [10000, 40000]",
     "output_type": "error",
     "traceback": [
      "\u001b[1;31m---------------------------------------------------------------------------\u001b[0m",
      "\u001b[1;31mValueError\u001b[0m                                Traceback (most recent call last)",
      "\u001b[1;32m<ipython-input-18-d7730ed712af>\u001b[0m in \u001b[0;36m<module>\u001b[1;34m\u001b[0m\n\u001b[1;32m----> 1\u001b[1;33m \u001b[0mdocsTrain\u001b[0m\u001b[1;33m,\u001b[0m\u001b[0mdocsTest\u001b[0m\u001b[1;33m,\u001b[0m\u001b[0myTrain\u001b[0m\u001b[1;33m,\u001b[0m\u001b[0myTest\u001b[0m \u001b[1;33m=\u001b[0m \u001b[0mtrain_test_split\u001b[0m\u001b[1;33m(\u001b[0m\u001b[0mdocs\u001b[0m\u001b[1;33m,\u001b[0m\u001b[0my\u001b[0m\u001b[1;33m,\u001b[0m\u001b[0mtest_size\u001b[0m\u001b[1;33m=\u001b[0m\u001b[1;36m1\u001b[0m\u001b[1;33m/\u001b[0m\u001b[1;36m4\u001b[0m\u001b[1;33m,\u001b[0m\u001b[0mshuffle\u001b[0m\u001b[1;33m=\u001b[0m\u001b[1;32mTrue\u001b[0m\u001b[1;33m,\u001b[0m\u001b[0mrandom_state\u001b[0m\u001b[1;33m=\u001b[0m\u001b[1;36m5\u001b[0m\u001b[1;33m)\u001b[0m\u001b[1;33m\u001b[0m\u001b[1;33m\u001b[0m\u001b[0m\n\u001b[0m",
      "\u001b[1;32m~\\anaconda3\\lib\\site-packages\\sklearn\\model_selection\\_split.py\u001b[0m in \u001b[0;36mtrain_test_split\u001b[1;34m(*arrays, **options)\u001b[0m\n\u001b[0;32m   2125\u001b[0m         \u001b[1;32mraise\u001b[0m \u001b[0mTypeError\u001b[0m\u001b[1;33m(\u001b[0m\u001b[1;34m\"Invalid parameters passed: %s\"\u001b[0m \u001b[1;33m%\u001b[0m \u001b[0mstr\u001b[0m\u001b[1;33m(\u001b[0m\u001b[0moptions\u001b[0m\u001b[1;33m)\u001b[0m\u001b[1;33m)\u001b[0m\u001b[1;33m\u001b[0m\u001b[1;33m\u001b[0m\u001b[0m\n\u001b[0;32m   2126\u001b[0m \u001b[1;33m\u001b[0m\u001b[0m\n\u001b[1;32m-> 2127\u001b[1;33m     \u001b[0marrays\u001b[0m \u001b[1;33m=\u001b[0m \u001b[0mindexable\u001b[0m\u001b[1;33m(\u001b[0m\u001b[1;33m*\u001b[0m\u001b[0marrays\u001b[0m\u001b[1;33m)\u001b[0m\u001b[1;33m\u001b[0m\u001b[1;33m\u001b[0m\u001b[0m\n\u001b[0m\u001b[0;32m   2128\u001b[0m \u001b[1;33m\u001b[0m\u001b[0m\n\u001b[0;32m   2129\u001b[0m     \u001b[0mn_samples\u001b[0m \u001b[1;33m=\u001b[0m \u001b[0m_num_samples\u001b[0m\u001b[1;33m(\u001b[0m\u001b[0marrays\u001b[0m\u001b[1;33m[\u001b[0m\u001b[1;36m0\u001b[0m\u001b[1;33m]\u001b[0m\u001b[1;33m)\u001b[0m\u001b[1;33m\u001b[0m\u001b[1;33m\u001b[0m\u001b[0m\n",
      "\u001b[1;32m~\\anaconda3\\lib\\site-packages\\sklearn\\utils\\validation.py\u001b[0m in \u001b[0;36mindexable\u001b[1;34m(*iterables)\u001b[0m\n\u001b[0;32m    290\u001b[0m     \"\"\"\n\u001b[0;32m    291\u001b[0m     \u001b[0mresult\u001b[0m \u001b[1;33m=\u001b[0m \u001b[1;33m[\u001b[0m\u001b[0m_make_indexable\u001b[0m\u001b[1;33m(\u001b[0m\u001b[0mX\u001b[0m\u001b[1;33m)\u001b[0m \u001b[1;32mfor\u001b[0m \u001b[0mX\u001b[0m \u001b[1;32min\u001b[0m \u001b[0miterables\u001b[0m\u001b[1;33m]\u001b[0m\u001b[1;33m\u001b[0m\u001b[1;33m\u001b[0m\u001b[0m\n\u001b[1;32m--> 292\u001b[1;33m     \u001b[0mcheck_consistent_length\u001b[0m\u001b[1;33m(\u001b[0m\u001b[1;33m*\u001b[0m\u001b[0mresult\u001b[0m\u001b[1;33m)\u001b[0m\u001b[1;33m\u001b[0m\u001b[1;33m\u001b[0m\u001b[0m\n\u001b[0m\u001b[0;32m    293\u001b[0m     \u001b[1;32mreturn\u001b[0m \u001b[0mresult\u001b[0m\u001b[1;33m\u001b[0m\u001b[1;33m\u001b[0m\u001b[0m\n\u001b[0;32m    294\u001b[0m \u001b[1;33m\u001b[0m\u001b[0m\n",
      "\u001b[1;32m~\\anaconda3\\lib\\site-packages\\sklearn\\utils\\validation.py\u001b[0m in \u001b[0;36mcheck_consistent_length\u001b[1;34m(*arrays)\u001b[0m\n\u001b[0;32m    253\u001b[0m     \u001b[0muniques\u001b[0m \u001b[1;33m=\u001b[0m \u001b[0mnp\u001b[0m\u001b[1;33m.\u001b[0m\u001b[0munique\u001b[0m\u001b[1;33m(\u001b[0m\u001b[0mlengths\u001b[0m\u001b[1;33m)\u001b[0m\u001b[1;33m\u001b[0m\u001b[1;33m\u001b[0m\u001b[0m\n\u001b[0;32m    254\u001b[0m     \u001b[1;32mif\u001b[0m \u001b[0mlen\u001b[0m\u001b[1;33m(\u001b[0m\u001b[0muniques\u001b[0m\u001b[1;33m)\u001b[0m \u001b[1;33m>\u001b[0m \u001b[1;36m1\u001b[0m\u001b[1;33m:\u001b[0m\u001b[1;33m\u001b[0m\u001b[1;33m\u001b[0m\u001b[0m\n\u001b[1;32m--> 255\u001b[1;33m         raise ValueError(\"Found input variables with inconsistent numbers of\"\n\u001b[0m\u001b[0;32m    256\u001b[0m                          \" samples: %r\" % [int(l) for l in lengths])\n\u001b[0;32m    257\u001b[0m \u001b[1;33m\u001b[0m\u001b[0m\n",
      "\u001b[1;31mValueError\u001b[0m: Found input variables with inconsistent numbers of samples: [10000, 40000]"
     ]
    }
   ],
   "source": [
    "docsTrain,docsTest,yTrain,yTest = train_test_split(docs,y,test_size=1/4,shuffle=True,random_state=5)\n"
   ]
  },
  {
   "cell_type": "code",
   "execution_count": null,
   "metadata": {},
   "outputs": [],
   "source": [
    "'''\n",
    "\n",
    "docs= None\n",
    "\n",
    "yTreino=None\n",
    "yYeste= None\n",
    "\n",
    "\n",
    "ybinTreino = transformYtoBinary(yTreino)\n",
    "ybinTeste = transformYtoBinary(ybinTeste)\n",
    "\n",
    "x = text2vector(docs)\n",
    "\n",
    "predictbin = binClassify(X)\n",
    "predictmulti =  multiClassify(X):\n",
    "\n",
    "\n",
    "'''"
   ]
  },
  {
   "cell_type": "markdown",
   "metadata": {},
   "source": [
    "Testes realizado de forma a testar o correto funcionamento dos classificadores guardados np pickle"
   ]
  },
  {
   "cell_type": "code",
   "execution_count": 14,
   "metadata": {},
   "outputs": [
    {
     "name": "stdout",
     "output_type": "stream",
     "text": [
      "0.4783\n"
     ]
    }
   ],
   "source": [
    "#pre-processar texto\n",
    "docs = clearText(docsTest) \n",
    "\n",
    "#Transformar os valores de y para binario\n",
    "ybinTreino = transformYtoBinary(yTrain)\n",
    "ybinTeste = transformYtoBinary(yTest)\n",
    "\n",
    "#transformada tfidf\n",
    "x = text2vector(docs)\n",
    "\n",
    "#predict\n",
    "predict = multiClassify(x)\n",
    "accuracy = metrics.accuracy_score(yTest,predict)\n",
    "\n",
    "#acuracy do classificador multiclasse\n",
    "print(accuracy)"
   ]
  },
  {
   "cell_type": "code",
   "execution_count": 15,
   "metadata": {},
   "outputs": [],
   "source": [
    "predict = binClassify(x)\n",
    "\n",
    "#accuracy do classificador binario\n",
    "accuracyBin = metrics.accuracy_score(ybinTeste,predict)\n"
   ]
  },
  {
   "cell_type": "code",
   "execution_count": 16,
   "metadata": {},
   "outputs": [
    {
     "name": "stdout",
     "output_type": "stream",
     "text": [
      "0.9098\n"
     ]
    }
   ],
   "source": [
    "print(accuracyBin)"
   ]
  },
  {
   "cell_type": "markdown",
   "metadata": {},
   "source": [
    "# Código realizado no processo de clustering\n",
    "\n",
    "Nesta parte, irá ser apresentado o código que foi realizado no processo de clustering.\n",
    "\n",
    "Etapas:\n",
    "\n",
    "1. Pre-processamento dos dados com a função clear text.\n",
    "2. Treinar o tfidfVectorizer e obter a matriz de documento termo X\n",
    "3. Realizar PCA, com a função truncatedSVD para reduzir a dimensionalidade dos dados.\n",
    "4. Obter o melhor número de clusters com a função find_best_number_clusters.\n",
    "5. Realizar o clustering para o número obtido de numero de clusters iniciais.\n",
    "6. Obter as palavras mais importantes dos clusters com a função getMostImportantWordsByCluster\n",
    "7. Desmonstrar gráficamente as seis palavras mais importantes dos clusters com a função showTopWords\n",
    "\n",
    "\n"
   ]
  },
  {
   "cell_type": "markdown",
   "metadata": {},
   "source": [
    "Limpar os documentos sem treino e teste"
   ]
  },
  {
   "cell_type": "code",
   "execution_count": 6,
   "metadata": {},
   "outputs": [
    {
     "name": "stdout",
     "output_type": "stream",
     "text": [
      "True\n"
     ]
    }
   ],
   "source": [
    "docsCleared=clearText(docs, clustering=True)"
   ]
  },
  {
   "cell_type": "markdown",
   "metadata": {},
   "source": [
    "Fazer o fit tfidf"
   ]
  },
  {
   "cell_type": "code",
   "execution_count": 9,
   "metadata": {},
   "outputs": [],
   "source": [
    "\n",
    "tfidfClustering=TfidfVectorizer(min_df=5,token_pattern=r'\\b\\w\\w\\w+\\b',stop_words=\"english\").fit(docsCleared) \n",
    "\n",
    "#tokens\n",
    "tokens = tfidfClustering.get_feature_names() "
   ]
  },
  {
   "cell_type": "code",
   "execution_count": 10,
   "metadata": {},
   "outputs": [
    {
     "name": "stdout",
     "output_type": "stream",
     "text": [
      "21002\n"
     ]
    }
   ],
   "source": [
    "print (len(tokens))"
   ]
  },
  {
   "cell_type": "markdown",
   "metadata": {},
   "source": [
    "Obter a matriz de documento termo X"
   ]
  },
  {
   "cell_type": "code",
   "execution_count": 17,
   "metadata": {},
   "outputs": [],
   "source": [
    "#transform tfidf sem train e test\n",
    "xTransform = text2VectorTeste(docsCleared,tfidfClustering)"
   ]
  },
  {
   "cell_type": "markdown",
   "metadata": {},
   "source": [
    "## Truncated SVD\n",
    "\n",
    "Foi realizada uma análise em componente principais com 3800 componentes, uma redução da dimensionalidade dos dados para 18 porcento do tamanho original. \n",
    "\n"
   ]
  },
  {
   "cell_type": "code",
   "execution_count": 18,
   "metadata": {},
   "outputs": [],
   "source": [
    "svd = TruncatedSVD(n_components=3800)\n",
    "\n",
    "# Como os vetores resultantantes da transformada tfidf são normalizados\n",
    "# Como os resultados da SVD não são normalizados, tem que ser refeita a normalização\n",
    "\n",
    "normalizer = Normalizer(copy=False)\n",
    "lsa = make_pipeline(svd, normalizer)\n",
    "\n",
    "svd_transform = lsa.fit_transform(xTransform)\n",
    "\n"
   ]
  },
  {
   "cell_type": "markdown",
   "metadata": {},
   "source": [
    "soma da percentagem da variância por componente igual a cerca de 76 porcento, preserva grande parte da variância original. "
   ]
  },
  {
   "cell_type": "code",
   "execution_count": 20,
   "metadata": {},
   "outputs": [
    {
     "name": "stdout",
     "output_type": "stream",
     "text": [
      "soma da percentagem da variância  por componente  0.7577029161496971\n"
     ]
    }
   ],
   "source": [
    "print(\"soma da percentagem da variância  por componente \",((svd.explained_variance_ratio_.sum())))"
   ]
  },
  {
   "cell_type": "markdown",
   "metadata": {},
   "source": [
    "## Clustering\n",
    "\n",
    "Realização do clustering KMeans, com um número que é obtido mais abaixo para o número de clusters."
   ]
  },
  {
   "cell_type": "code",
   "execution_count": 40,
   "metadata": {},
   "outputs": [],
   "source": [
    "#usar k means clustering\n",
    "def Clustering(xTransform,n_clusters):\n",
    "\n",
    "    km = KMeans(n_clusters , init = 'k-means++', n_init = 12, tol = 0.0001, n_jobs = 2 , algorithm = 'full', random_state=1)\n",
    "    km.fit(xTransform)\n",
    "   \n",
    "    return km\n"
   ]
  },
  {
   "cell_type": "code",
   "execution_count": 41,
   "metadata": {},
   "outputs": [
    {
     "name": "stdout",
     "output_type": "stream",
     "text": [
      "Clustering sparse data with KMeans(algorithm='full', n_clusters=30, n_init=12, n_jobs=2, random_state=1)\n"
     ]
    },
    {
     "name": "stderr",
     "output_type": "stream",
     "text": [
      "C:\\Users\\duart\\anaconda3\\lib\\site-packages\\sklearn\\cluster\\_kmeans.py:938: FutureWarning: 'n_jobs' was deprecated in version 0.23 and will be removed in 0.25.\n",
      "  warnings.warn(\"'n_jobs' was deprecated in version 0.23 and will be\"\n"
     ]
    },
    {
     "name": "stdout",
     "output_type": "stream",
     "text": [
      "Done at 20:18:49\n"
     ]
    }
   ],
   "source": [
    "kmeans = Clustering(svd_transform,30)\n",
    "\n"
   ]
  },
  {
   "cell_type": "markdown",
   "metadata": {},
   "source": [
    "### Obter as seis palavras mais relevantes por cluster, no k means realizado."
   ]
  },
  {
   "cell_type": "code",
   "execution_count": 42,
   "metadata": {},
   "outputs": [],
   "source": [
    "def getMostImportantWordsByCluster(kmeans, n_clusters):\n",
    "    \n",
    "    dic = {}\n",
    "   # clusters = kmeans.labels_#labels\n",
    "    k_centers = kmeans.cluster_centers_  #Centros dos clusters [n_clusters, n features]\n",
    "    original_space_centroids = svd.inverse_transform(k_centers) #transformar o espaco de dados de 4000 para 20278 features\n",
    "    order_centroids = original_space_centroids.argsort()[:, ::-1] #inverter a ordem dos centroides ::-1\n",
    "\n",
    "    \n",
    "    for i in range(n_clusters ):\n",
    "        arr=[]\n",
    "        for ind in order_centroids[i, :6]:  #ir buscar as 6 palavras mais relevantes do centroide\n",
    "            \n",
    "          \n",
    "            \n",
    "            arr.append(tokens[ind])           \n",
    "        \n",
    "        dic[i] = arr\n",
    "    \n",
    "    return dic\n",
    "        "
   ]
  },
  {
   "cell_type": "code",
   "execution_count": 55,
   "metadata": {},
   "outputs": [
    {
     "name": "stdout",
     "output_type": "stream",
     "text": [
      "10488\n",
      "7711\n",
      "3616\n",
      "7221\n",
      "9837\n",
      "5298\n",
      "12396\n",
      "14167\n",
      "3918\n",
      "4168\n",
      "12449\n",
      "3600\n",
      "14066\n",
      "7711\n",
      "13769\n",
      "17813\n",
      "1662\n",
      "17637\n",
      "18597\n",
      "16100\n",
      "7711\n",
      "20829\n",
      "4955\n",
      "13741\n",
      "125\n",
      "6654\n",
      "7711\n",
      "16310\n",
      "11453\n",
      "17813\n",
      "6050\n",
      "16327\n",
      "16461\n",
      "7711\n",
      "3037\n",
      "7866\n",
      "635\n",
      "2814\n",
      "5127\n",
      "3037\n",
      "17813\n",
      "20137\n",
      "8806\n",
      "7711\n",
      "7739\n",
      "16137\n",
      "6431\n",
      "17813\n",
      "2045\n",
      "15012\n",
      "12886\n",
      "17813\n",
      "3037\n",
      "140\n",
      "12415\n",
      "4442\n",
      "17300\n",
      "16882\n",
      "7711\n",
      "10985\n",
      "20249\n",
      "17257\n",
      "20700\n",
      "7476\n",
      "17813\n",
      "1420\n",
      "5595\n",
      "20829\n",
      "16100\n",
      "15229\n",
      "3922\n",
      "15264\n",
      "20294\n",
      "20714\n",
      "12150\n",
      "5298\n",
      "18550\n",
      "8799\n",
      "19865\n",
      "5401\n",
      "1897\n",
      "10656\n",
      "7711\n",
      "1818\n",
      "20979\n",
      "4549\n",
      "1195\n",
      "7739\n",
      "8806\n",
      "7711\n",
      "10985\n",
      "17813\n",
      "1478\n",
      "3037\n",
      "7711\n",
      "7866\n",
      "7711\n",
      "8071\n",
      "18636\n",
      "5298\n",
      "13741\n",
      "10232\n",
      "3037\n",
      "17813\n",
      "7711\n",
      "11222\n",
      "4881\n",
      "14066\n",
      "1413\n",
      "13724\n",
      "2512\n",
      "9838\n",
      "18086\n",
      "16461\n",
      "1195\n",
      "7711\n",
      "20714\n",
      "5298\n",
      "18636\n",
      "8071\n",
      "10120\n",
      "3184\n",
      "13526\n",
      "196\n",
      "7711\n",
      "10821\n",
      "16461\n",
      "6050\n",
      "3037\n",
      "13177\n",
      "7866\n",
      "7711\n",
      "11837\n",
      "11506\n",
      "2592\n",
      "12395\n",
      "7711\n",
      "9629\n",
      "2403\n",
      "11006\n",
      "7711\n",
      "1195\n",
      "5726\n",
      "17813\n",
      "7221\n",
      "3616\n",
      "9837\n",
      "7711\n",
      "10488\n",
      "13741\n",
      "10139\n",
      "16994\n",
      "10138\n",
      "16462\n",
      "7711\n",
      "12396\n",
      "7866\n",
      "7711\n",
      "17813\n",
      "1662\n",
      "5974\n",
      "2848\n",
      "7306\n",
      "14066\n",
      "7836\n",
      "20013\n",
      "7711\n",
      "10670\n",
      "10715\n",
      "13741\n",
      "17813\n",
      "10826\n",
      "6425\n",
      "11293\n",
      "9666\n",
      "18396\n",
      "1059\n",
      "5888\n",
      "12886\n",
      "19974\n"
     ]
    }
   ],
   "source": [
    "dicMostImportantWords = getMostImportantWordsByCluster(kmeans, 30)\n"
   ]
  },
  {
   "cell_type": "markdown",
   "metadata": {},
   "source": [
    "### Função que usa matplotlib para mostrar gráficos de barras com as palavras mais relevantes dos clusters."
   ]
  },
  {
   "cell_type": "code",
   "execution_count": 49,
   "metadata": {},
   "outputs": [],
   "source": [
    "def showTopWords(dic):\n",
    "    \n",
    "    arrColors = ['red','yellow','pink','blue','green','purple','brown']\n",
    "    \n",
    "    c=0\n",
    "    \n",
    "    for key in dic:\n",
    "       \n",
    "        if (c==7):\n",
    "            c=0\n",
    "        \n",
    "        words = dic[key]\n",
    "        y_pos = np.arange(len(words))\n",
    "        \n",
    "        size = len(dic)\n",
    "        arr = np.arange (1,len(words)+1)\n",
    "        performance = arr[::-1]\n",
    "        \n",
    "        plt.figure(figsize=(6,1))\n",
    "        plt.bar(y_pos, performance, align='center', alpha=1,color=arrColors[c])\n",
    "        c=c+1\n",
    "        plt.xticks(y_pos, words)\n",
    "        \n",
    "        \n",
    "        #plt.ylabel('Usage')\n",
    "        keyS = str(key)\n",
    "        title = (\"Best words of  cluster \"+keyS)\n",
    "\n",
    "        plt.title(title)\n",
    "        plt.show()\n",
    "    \n",
    "    "
   ]
  },
  {
   "cell_type": "code",
   "execution_count": 52,
   "metadata": {},
   "outputs": [
    {
     "data": {
      "image/png": "[encoded data removed]",
      "text/plain": [
       "<Figure size 432x72 with 1 Axes>"
      ]
     },
     "metadata": {
      "needs_background": "light"
     },
     "output_type": "display_data"
    },
    {
     "data": {
      "image/png": "[encoded data removed]",
      "text/plain": [
       "<Figure size 432x72 with 1 Axes>"
      ]
     },
     "metadata": {
      "needs_background": "light"
     },
     "output_type": "display_data"
    },
    {
     "data": {
      "image/png": "[encoded data removed]",
      "text/plain": [
       "<Figure size 432x72 with 1 Axes>"
      ]
     },
     "metadata": {
      "needs_background": "light"
     },
     "output_type": "display_data"
    },
    {
     "data": {
      "image/png": "[encoded data removed]",
      "text/plain": [
       "<Figure size 432x72 with 1 Axes>"
      ]
     },
     "metadata": {
      "needs_background": "light"
     },
     "output_type": "display_data"
    },
    {
     "data": {
      "image/png": "[encoded data removed]",
      "text/plain": [
       "<Figure size 432x72 with 1 Axes>"
      ]
     },
     "metadata": {
      "needs_background": "light"
     },
     "output_type": "display_data"
    },
    {
     "data": {
      "image/png": "[encoded data removed]",
      "text/plain": [
       "<Figure size 432x72 with 1 Axes>"
      ]
     },
     "metadata": {
      "needs_background": "light"
     },
     "output_type": "display_data"
    },
    {
     "data": {
      "image/png": "[encoded data removed]",
      "text/plain": [
       "<Figure size 432x72 with 1 Axes>"
      ]
     },
     "metadata": {
      "needs_background": "light"
     },
     "output_type": "display_data"
    },
    {
     "data": {
      "image/png": "[encoded data removed]",
      "text/plain": [
       "<Figure size 432x72 with 1 Axes>"
      ]
     },
     "metadata": {
      "needs_background": "light"
     },
     "output_type": "display_data"
    },
    {
     "data": {
      "image/png": "[encoded data removed]",
      "text/plain": [
       "<Figure size 432x72 with 1 Axes>"
      ]
     },
     "metadata": {
      "needs_background": "light"
     },
     "output_type": "display_data"
    },
    {
     "data": {
      "image/png": "[encoded data removed]",
      "text/plain": [
       "<Figure size 432x72 with 1 Axes>"
      ]
     },
     "metadata": {
      "needs_background": "light"
     },
     "output_type": "display_data"
    },
    {
     "data": {
      "image/png": "[encoded data removed]",
      "text/plain": [
       "<Figure size 432x72 with 1 Axes>"
      ]
     },
     "metadata": {
      "needs_background": "light"
     },
     "output_type": "display_data"
    },
    {
     "data": {
      "image/png": "[encoded data removed]",
      "text/plain": [
       "<Figure size 432x72 with 1 Axes>"
      ]
     },
     "metadata": {
      "needs_background": "light"
     },
     "output_type": "display_data"
    },
    {
     "data": {
      "image/png": "[encoded data removed]",
      "text/plain": [
       "<Figure size 432x72 with 1 Axes>"
      ]
     },
     "metadata": {
      "needs_background": "light"
     },
     "output_type": "display_data"
    },
    {
     "data": {
      "image/png": "[encoded data removed]",
      "text/plain": [
       "<Figure size 432x72 with 1 Axes>"
      ]
     },
     "metadata": {
      "needs_background": "light"
     },
     "output_type": "display_data"
    },
    {
     "data": {
      "image/png": "[encoded data removed]",
      "text/plain": [
       "<Figure size 432x72 with 1 Axes>"
      ]
     },
     "metadata": {
      "needs_background": "light"
     },
     "output_type": "display_data"
    },
    {
     "data": {
      "image/png": "[encoded data removed]",
      "text/plain": [
       "<Figure size 432x72 with 1 Axes>"
      ]
     },
     "metadata": {
      "needs_background": "light"
     },
     "output_type": "display_data"
    },
    {
     "data": {
      "image/png": "[encoded data removed]",
      "text/plain": [
       "<Figure size 432x72 with 1 Axes>"
      ]
     },
     "metadata": {
      "needs_background": "light"
     },
     "output_type": "display_data"
    },
    {
     "data": {
      "image/png": "[encoded data removed]",
      "text/plain": [
       "<Figure size 432x72 with 1 Axes>"
      ]
     },
     "metadata": {
      "needs_background": "light"
     },
     "output_type": "display_data"
    },
    {
     "data": {
      "image/png": "[encoded data removed]",
      "text/plain": [
       "<Figure size 432x72 with 1 Axes>"
      ]
     },
     "metadata": {
      "needs_background": "light"
     },
     "output_type": "display_data"
    },
    {
     "data": {
      "image/png": "[encoded data removed]",
      "text/plain": [
       "<Figure size 432x72 with 1 Axes>"
      ]
     },
     "metadata": {
      "needs_background": "light"
     },
     "output_type": "display_data"
    },
    {
     "data": {
      "image/png": "[encoded data removed]",
      "text/plain": [
       "<Figure size 432x72 with 1 Axes>"
      ]
     },
     "metadata": {
      "needs_background": "light"
     },
     "output_type": "display_data"
    },
    {
     "data": {
      "image/png": "[encoded data removed]",
      "text/plain": [
       "<Figure size 432x72 with 1 Axes>"
      ]
     },
     "metadata": {
      "needs_background": "light"
     },
     "output_type": "display_data"
    },
    {
     "data": {
      "image/png": "[encoded data removed]",
      "text/plain": [
       "<Figure size 432x72 with 1 Axes>"
      ]
     },
     "metadata": {
      "needs_background": "light"
     },
     "output_type": "display_data"
    },
    {
     "data": {
      "image/png": "[encoded data removed]",
      "text/plain": [
       "<Figure size 432x72 with 1 Axes>"
      ]
     },
     "metadata": {
      "needs_background": "light"
     },
     "output_type": "display_data"
    },
    {
     "data": {
      "image/png": "[encoded data removed]",
      "text/plain": [
       "<Figure size 432x72 with 1 Axes>"
      ]
     },
     "metadata": {
      "needs_background": "light"
     },
     "output_type": "display_data"
    },
    {
     "data": {
      "image/png": "[encoded data removed]",
      "text/plain": [
       "<Figure size 432x72 with 1 Axes>"
      ]
     },
     "metadata": {
      "needs_background": "light"
     },
     "output_type": "display_data"
    },
    {
     "data": {
      "image/png": "[encoded data removed]",
      "text/plain": [
       "<Figure size 432x72 with 1 Axes>"
      ]
     },
     "metadata": {
      "needs_background": "light"
     },
     "output_type": "display_data"
    },
    {
     "data": {
      "image/png": "[encoded data removed]",
      "text/plain": [
       "<Figure size 432x72 with 1 Axes>"
      ]
     },
     "metadata": {
      "needs_background": "light"
     },
     "output_type": "display_data"
    },
    {
     "data": {
      "image/png": "[encoded data removed]",
      "text/plain": [
       "<Figure size 432x72 with 1 Axes>"
      ]
     },
     "metadata": {
      "needs_background": "light"
     },
     "output_type": "display_data"
    },
    {
     "data": {
      "image/png": "[encoded data removed]",
      "text/plain": [
       "<Figure size 432x72 with 1 Axes>"
      ]
     },
     "metadata": {
      "needs_background": "light"
     },
     "output_type": "display_data"
    }
   ],
   "source": [
    " showTopWords(dicMostImportantWords)"
   ]
  },
  {
   "cell_type": "markdown",
   "metadata": {},
   "source": [
    "### Função para obter o melhor número de clusters\n",
    "\n",
    "Para escolher o número inicial de k-means usou-se o método “elbow”, este método baseia-se em correr o k-means para um gama de valores de K (número de clusters) e para cada valor de K calcular a soma dos erros quadrados. \n",
    "\n",
    "De seguida faz-se um “plot” da soma dos erros quadrados , parte do gráfico que parecer um cotovelo será o melhor valor para k. \n"
   ]
  },
  {
   "cell_type": "code",
   "execution_count": 32,
   "metadata": {},
   "outputs": [],
   "source": [
    "def find_best_number_clusters(max_k, data):\n",
    "    indx = np.arange(12, max_k+2, 2) #12,14,16,18,...,max_k\n",
    "    sse = [] #array de sse\n",
    "    \n",
    "    for k in indx:\n",
    "        #realizar kmeans para k numero de clusters iniciais\n",
    "        kmeans = cluster.KMeans(n_clusters = k\n",
    "                               , init = 'k-means++')\n",
    "        \n",
    "        sse.append(kmeans.fit(data).inertia_)\n",
    "        \n",
    "        #calucar o silhoutte score para valor de k\n",
    "        print (str(k) + \": \"+ str(silhouette_score(data, kmeans.labels_, metric='euclidean')))\n",
    "    \n",
    "    \n",
    "    #Fazer plot dos gráficos\n",
    "    f, ax = plt.subplots(1, 1)\n",
    "    ax.plot(indx, sse, marker='o')\n",
    "    ax.set_xlabel('Clusters Centroides')\n",
    "    ax.set_xticks(indx)\n",
    "    ax.set_xticklabels(indx)\n",
    "    ax.set_ylabel('SSE')\n",
    "    ax.set_title('SSE por número de clusters')\n",
    "    \n",
    "    \n",
    "        "
   ]
  },
  {
   "cell_type": "code",
   "execution_count": 33,
   "metadata": {},
   "outputs": [
    {
     "name": "stdout",
     "output_type": "stream",
     "text": [
      "12: 0.002361795144707483\n",
      "14: 0.0028008031777785837\n",
      "16: 0.0032758390199061757\n",
      "18: 0.00345167515476532\n",
      "20: 0.0036283588356641034\n",
      "22: 0.0038304414041944552\n",
      "24: 0.003975960894574218\n",
      "26: 0.00424091856874147\n",
      "28: 0.004366857856273622\n",
      "30: 0.004584484628048361\n",
      "32: 0.004898221146186713\n",
      "34: 0.004815504071512248\n"
     ]
    },
    {
     "data": {
      "image/png": "[encoded data removed]",
      "text/plain": [
       "<Figure size 432x288 with 1 Axes>"
      ]
     },
     "metadata": {
      "needs_background": "light"
     },
     "output_type": "display_data"
    }
   ],
   "source": [
    "find_best_number_clusters(34, svd_transform)"
   ]
  },
  {
   "cell_type": "markdown",
   "metadata": {},
   "source": [
    "### Vizualizar as palavras mais importantes dos clusters para os 40000 dados das criticas IMBD"
   ]
  },
  {
   "cell_type": "code",
   "execution_count": 53,
   "metadata": {},
   "outputs": [
    {
     "data": {
      "image/png": "[encoded data removed]",
      "text/plain": [
       "<Figure size 432x72 with 1 Axes>"
      ]
     },
     "metadata": {
      "needs_background": "light"
     },
     "output_type": "display_data"
    },
    {
     "data": {
      "image/png": "[encoded data removed]",
      "text/plain": [
       "<Figure size 432x72 with 1 Axes>"
      ]
     },
     "metadata": {
      "needs_background": "light"
     },
     "output_type": "display_data"
    },
    {
     "data": {
      "image/png": "[encoded data removed]",
      "text/plain": [
       "<Figure size 432x72 with 1 Axes>"
      ]
     },
     "metadata": {
      "needs_background": "light"
     },
     "output_type": "display_data"
    },
    {
     "data": {
      "image/png": "[encoded data removed]",
      "text/plain": [
       "<Figure size 432x72 with 1 Axes>"
      ]
     },
     "metadata": {
      "needs_background": "light"
     },
     "output_type": "display_data"
    },
    {
     "data": {
      "image/png": "[encoded data removed]",
      "text/plain": [
       "<Figure size 432x72 with 1 Axes>"
      ]
     },
     "metadata": {
      "needs_background": "light"
     },
     "output_type": "display_data"
    },
    {
     "data": {
      "image/png": "[encoded data removed]",
      "text/plain": [
       "<Figure size 432x72 with 1 Axes>"
      ]
     },
     "metadata": {
      "needs_background": "light"
     },
     "output_type": "display_data"
    },
    {
     "data": {
      "image/png": "[encoded data removed]",
      "text/plain": [
       "<Figure size 432x72 with 1 Axes>"
      ]
     },
     "metadata": {
      "needs_background": "light"
     },
     "output_type": "display_data"
    },
    {
     "data": {
      "image/png": "[encoded data removed]",
      "text/plain": [
       "<Figure size 432x72 with 1 Axes>"
      ]
     },
     "metadata": {
      "needs_background": "light"
     },
     "output_type": "display_data"
    },
    {
     "data": {
      "image/png": "[encoded data removed]",
      "text/plain": [
       "<Figure size 432x72 with 1 Axes>"
      ]
     },
     "metadata": {
      "needs_background": "light"
     },
     "output_type": "display_data"
    },
    {
     "data": {
      "image/png": "[encoded data removed]",
      "text/plain": [
       "<Figure size 432x72 with 1 Axes>"
      ]
     },
     "metadata": {
      "needs_background": "light"
     },
     "output_type": "display_data"
    },
    {
     "data": {
      "image/png": "[encoded data removed]",
      "text/plain": [
       "<Figure size 432x72 with 1 Axes>"
      ]
     },
     "metadata": {
      "needs_background": "light"
     },
     "output_type": "display_data"
    },
    {
     "data": {
      "image/png": "[encoded data removed]",
      "text/plain": [
       "<Figure size 432x72 with 1 Axes>"
      ]
     },
     "metadata": {
      "needs_background": "light"
     },
     "output_type": "display_data"
    },
    {
     "data": {
      "image/png": "[encoded data removed]",
      "text/plain": [
       "<Figure size 432x72 with 1 Axes>"
      ]
     },
     "metadata": {
      "needs_background": "light"
     },
     "output_type": "display_data"
    },
    {
     "data": {
      "image/png": "[encoded data removed]",
      "text/plain": [
       "<Figure size 432x72 with 1 Axes>"
      ]
     },
     "metadata": {
      "needs_background": "light"
     },
     "output_type": "display_data"
    },
    {
     "data": {
      "image/png": "[encoded data removed]",
      "text/plain": [
       "<Figure size 432x72 with 1 Axes>"
      ]
     },
     "metadata": {
      "needs_background": "light"
     },
     "output_type": "display_data"
    },
    {
     "data": {
      "image/png": "[encoded data removed]",
      "text/plain": [
       "<Figure size 432x72 with 1 Axes>"
      ]
     },
     "metadata": {
      "needs_background": "light"
     },
     "output_type": "display_data"
    },
    {
     "data": {
      "image/png": "[encoded data removed]",
      "text/plain": [
       "<Figure size 432x72 with 1 Axes>"
      ]
     },
     "metadata": {
      "needs_background": "light"
     },
     "output_type": "display_data"
    },
    {
     "data": {
      "image/png": "[encoded data removed]",
      "text/plain": [
       "<Figure size 432x72 with 1 Axes>"
      ]
     },
     "metadata": {
      "needs_background": "light"
     },
     "output_type": "display_data"
    },
    {
     "data": {
      "image/png": "[encoded data removed]",
      "text/plain": [
       "<Figure size 432x72 with 1 Axes>"
      ]
     },
     "metadata": {
      "needs_background": "light"
     },
     "output_type": "display_data"
    },
    {
     "data": {
      "image/png": "[encoded data removed]",
      "text/plain": [
       "<Figure size 432x72 with 1 Axes>"
      ]
     },
     "metadata": {
      "needs_background": "light"
     },
     "output_type": "display_data"
    },
    {
     "data": {
      "image/png": "[encoded data removed]",
      "text/plain": [
       "<Figure size 432x72 with 1 Axes>"
      ]
     },
     "metadata": {
      "needs_background": "light"
     },
     "output_type": "display_data"
    },
    {
     "data": {
      "image/png": "[encoded data removed]",
      "text/plain": [
       "<Figure size 432x72 with 1 Axes>"
      ]
     },
     "metadata": {
      "needs_background": "light"
     },
     "output_type": "display_data"
    },
    {
     "data": {
      "image/png": "[encoded data removed]",
      "text/plain": [
       "<Figure size 432x72 with 1 Axes>"
      ]
     },
     "metadata": {
      "needs_background": "light"
     },
     "output_type": "display_data"
    },
    {
     "data": {
      "image/png": "[encoded data removed]",
      "text/plain": [
       "<Figure size 432x72 with 1 Axes>"
      ]
     },
     "metadata": {
      "needs_background": "light"
     },
     "output_type": "display_data"
    },
    {
     "data": {
      "image/png": "[encoded data removed]",
      "text/plain": [
       "<Figure size 432x72 with 1 Axes>"
      ]
     },
     "metadata": {
      "needs_background": "light"
     },
     "output_type": "display_data"
    },
    {
     "data": {
      "image/png": "[encoded data removed]",
      "text/plain": [
       "<Figure size 432x72 with 1 Axes>"
      ]
     },
     "metadata": {
      "needs_background": "light"
     },
     "output_type": "display_data"
    },
    {
     "data": {
      "image/png": "[encoded data removed]",
      "text/plain": [
       "<Figure size 432x72 with 1 Axes>"
      ]
     },
     "metadata": {
      "needs_background": "light"
     },
     "output_type": "display_data"
    },
    {
     "data": {
      "image/png": "[encoded data removed]",
      "text/plain": [
       "<Figure size 432x72 with 1 Axes>"
      ]
     },
     "metadata": {
      "needs_background": "light"
     },
     "output_type": "display_data"
    },
    {
     "data": {
      "image/png": "[encoded data removed]",
      "text/plain": [
       "<Figure size 432x72 with 1 Axes>"
      ]
     },
     "metadata": {
      "needs_background": "light"
     },
     "output_type": "display_data"
    },
    {
     "data": {
      "image/png": "[encoded data removed]",
      "text/plain": [
       "<Figure size 432x72 with 1 Axes>"
      ]
     },
     "metadata": {
      "needs_background": "light"
     },
     "output_type": "display_data"
    }
   ],
   "source": [
    " showTopWords(dicMostImportantWordsData)"
   ]
  },
  {
   "cell_type": "markdown",
   "metadata": {},
   "source": [
    "# Realizar a classificação dos dados binário e multi-classe\n",
    "\n",
    "Nesta parte do trabalho é apresentado como foi feito o processo de treino dos diferentes classificadores, e o uso do RandomizedSearchCV para testar os melhores parametros."
   ]
  },
  {
   "cell_type": "markdown",
   "metadata": {},
   "source": [
    "Treinar dados de treino e de teste"
   ]
  },
  {
   "cell_type": "code",
   "execution_count": 28,
   "metadata": {},
   "outputs": [],
   "source": [
    "\n",
    "docsTrainPreProcessed=clearText(docsTrain)\n",
    "docsTestPreProcessed=clearText(docsTest)\n",
    "\n"
   ]
  },
  {
   "cell_type": "markdown",
   "metadata": {},
   "source": [
    "Fazer o treino tfidf"
   ]
  },
  {
   "cell_type": "code",
   "execution_count": 30,
   "metadata": {},
   "outputs": [],
   "source": [
    "tfidf=TfidfVectorizer(min_df=2,token_pattern=r'\\b\\w+\\b',ngram_range=(1,2)).fit(docsTrainPreProcessed)\n"
   ]
  },
  {
   "cell_type": "markdown",
   "metadata": {},
   "source": [
    "Obter a matriz documento/termo (matrizX) para treino e teste"
   ]
  },
  {
   "cell_type": "code",
   "execution_count": 33,
   "metadata": {},
   "outputs": [],
   "source": [
    " #transformacao tfidf com train e teste\n",
    "x1 = text2VectorTeste(docsTrainPreProcessed,tfidf)\n",
    "x2 = text2VectorTeste(docsTestPreProcessed,tfidf)"
   ]
  },
  {
   "cell_type": "markdown",
   "metadata": {},
   "source": [
    "### Métodos usados para o processo de treino dos classificadores:"
   ]
  },
  {
   "cell_type": "code",
   "execution_count": 43,
   "metadata": {},
   "outputs": [],
   "source": [
    "def text2VectorTeste(tfidf_fit, tfidf):\n",
    "        \n",
    "        \n",
    "    X=tfidf.transform(tfidf_fit) #matriz documento / termo\n",
    "    \n",
    "    \n",
    "    return X\n",
    "    "
   ]
  },
  {
   "cell_type": "code",
   "execution_count": 44,
   "metadata": {},
   "outputs": [],
   "source": [
    "\n",
    "def binClassifyTeste(X, yTrain):\n",
    "    #Logistic Regression binario\n",
    "    dl=LogisticRegression(penalty='l2',max_iter=1000,solver='saga',C=3.4,tol=1e-3)\n",
    "    dl.fit(X,yTrain)\n",
    "    \n",
    "    \n",
    "    return dl"
   ]
  },
  {
   "cell_type": "code",
   "execution_count": 45,
   "metadata": {},
   "outputs": [],
   "source": [
    "\n",
    "def multiClassifyTeste(X, y):\n",
    "    \n",
    "    #Logistic Regression multiclasse\n",
    "    dl=LogisticRegression(penalty='l1',solver='saga',max_iter=1000,C=2.1,tol=1e-3,multi_class='ovr')\n",
    "    dl.fit(X,y)\n",
    "    return dl"
   ]
  },
  {
   "cell_type": "code",
   "execution_count": 46,
   "metadata": {},
   "outputs": [],
   "source": [
    "def multiRidge(X,y):\n",
    "    \n",
    "    #MultiClasse Ridge\n",
    "    ridge = RidgeClassifier(alpha=1.8).fit(X, y)\n",
    "    \n",
    "    \n",
    "    return ridge\n",
    "    "
   ]
  },
  {
   "cell_type": "code",
   "execution_count": 47,
   "metadata": {},
   "outputs": [],
   "source": [
    "def binClassifyBernoulli(X,yTrain):\n",
    "    \n",
    "    #Binario Bernoulli\n",
    "    clf = BernoulliNB(fit_prior=True, alpha=1.28 )\n",
    "    clf.fit(X, yTrain)\n",
    "    return clf"
   ]
  },
  {
   "cell_type": "markdown",
   "metadata": {},
   "source": [
    "### Classificacao Binaria logistic Regression"
   ]
  },
  {
   "cell_type": "code",
   "execution_count": 37,
   "metadata": {},
   "outputs": [
    {
     "name": "stdout",
     "output_type": "stream",
     "text": [
      "Treino classificacao binaria 0.9860666666666666\n",
      "Teste classificacao binaria 0.9113\n"
     ]
    }
   ],
   "source": [
    "#Classificacao binaria \n",
    "\n",
    "yTrainBin = transformYtoBinary(yTrain)\n",
    "yTestBin = transformYtoBinary(yTest)\n",
    "\n",
    "\n",
    "binClass = binClassifyTeste(x1,yTrainBin)\n",
    "\n",
    "ypredbinClass = binClass.predict(x2)\n",
    "\n",
    "\n",
    "print(\"Treino classificacao binaria\",binClass.score(x1,yTrainBin))\n",
    "print(\"Teste classificacao binaria\",binClass.score(x2,yTestBin))\n",
    "\n",
    "#print(ypredbinClass)\n",
    "\n"
   ]
  },
  {
   "cell_type": "markdown",
   "metadata": {},
   "source": [
    "### Classificacao MultiClasse Logistic Regression"
   ]
  },
  {
   "cell_type": "code",
   "execution_count": 40,
   "metadata": {},
   "outputs": [
    {
     "name": "stdout",
     "output_type": "stream",
     "text": [
      "Treino classificacao Multiclasse 0.5976\n",
      "Teste classificacao Multiclasse 0.4789\n"
     ]
    }
   ],
   "source": [
    "#Classificacao multiclasse\n",
    "\n",
    "\n",
    "dlMulti = multiClassifyTeste(x1,yTrain)\n",
    "ypredClass = dlMulti.predict(x2)\n",
    "\n",
    "print(\"Treino classificacao Multiclasse\",dlMulti.score(x1,yTrain))\n",
    "print(\"Teste classificacao Multiclasse\",dlMulti.score(x2,yTest))\n"
   ]
  },
  {
   "cell_type": "code",
   "execution_count": 41,
   "metadata": {},
   "outputs": [
    {
     "name": "stdout",
     "output_type": "stream",
     "text": [
      "Treino classificacao Multiclasse 0.5976\n",
      "Teste classificacao Multiclasse 0.4789\n"
     ]
    }
   ],
   "source": [
    "print(\"Treino classificacao Multiclasse\",dlMulti.score(x1,yTrain))\n",
    "print(\"Teste classificacao Multiclasse\",dlMulti.score(x2,yTest))"
   ]
  },
  {
   "cell_type": "code",
   "execution_count": 42,
   "metadata": {},
   "outputs": [
    {
     "name": "stdout",
     "output_type": "stream",
     "text": [
      "[[1715   74   86   91   25   23   13   93]\n",
      " [ 494  158   83  121   20   17    9   48]\n",
      " [ 339   63  216  216   51   30    7   70]\n",
      " [ 229   59  137  388   87   59    9   84]\n",
      " [  39   11   28   77  318  157   39  213]\n",
      " [  45    7   11   63  177  307   58  429]\n",
      " [  35    5   10   38   73  139  139  501]\n",
      " [  88    8    9   40   73  138   63 1548]]\n"
     ]
    }
   ],
   "source": [
    "yPred = dlMulti.predict(x2)\n",
    "#obter matriz de confusão\n",
    "print (confusion_matrix(yTest, yPred))"
   ]
  },
  {
   "cell_type": "markdown",
   "metadata": {},
   "source": [
    "### Classificação multiClasse Ridge"
   ]
  },
  {
   "cell_type": "code",
   "execution_count": 69,
   "metadata": {},
   "outputs": [],
   "source": [
    "#MULTI CLASS CLASSIFICATION RIDGE \n",
    "\n",
    "multiClassRidge = multiRidge(x1,yTrain)\n",
    "\n",
    "\n"
   ]
  },
  {
   "cell_type": "code",
   "execution_count": 70,
   "metadata": {},
   "outputs": [
    {
     "name": "stdout",
     "output_type": "stream",
     "text": [
      "Treino classificacao ridge 0.9656666666666667\n",
      "Teste classificacao ridge 0.4785\n"
     ]
    }
   ],
   "source": [
    "#O QUE O SCORE FAZ É ISTO\n",
    "p = multiClassRidge.predict(x2)\n",
    "#accuracy = metrics.accuracy_score(yTest,ypredClass)\n",
    "#print(\"ACURACY\",accuracy)\n",
    "\n",
    "print(\"Treino classificacao ridge\",multiClassRidge.score(x1,yTrain))\n",
    "print(\"Teste classificacao ridge\",multiClassRidge.score(x2,yTest))\n"
   ]
  },
  {
   "cell_type": "markdown",
   "metadata": {},
   "source": [
    "### Classificação multiClasse Ridge"
   ]
  },
  {
   "cell_type": "markdown",
   "metadata": {},
   "source": [
    "Classificacao binaria bernoli"
   ]
  },
  {
   "cell_type": "code",
   "execution_count": null,
   "metadata": {},
   "outputs": [],
   "source": [
    "#BINARY CLASSIFICATION BERNOLI\n",
    "\n",
    "yTrainBin = transformYtoBinary(yTrain)\n",
    "yTestBin = transformYtoBinary(yTest)\n",
    "\n",
    "binClassBernoulli = binClassifyBernoulli(x1,yTrainBin)\n",
    "\n",
    "ypredBernoli = binClassBernoulli.predict(x2)\n",
    "\n",
    "print(\"Treino classificacao binaria bernoli\",binClassBernoulli.score(x1,yTrainBin))\n",
    "print(\"Teste classificacao binaria bernoli\",binClassBernoulli.score(x2,yTestBin))\n"
   ]
  },
  {
   "cell_type": "markdown",
   "metadata": {},
   "source": [
    "# Randomized Search\n",
    "\n",
    "De modo a descobrir os melhores parâmetros para o discriminante logístico recorreu-se ao uso do RandomizedSearchCV. \n",
    "\n",
    "RandomizedSearchCV percorre de forma aleatória um conjunto de hyper parâmetros e calcula o score, medida de acurácia dos métodos de predição, retornando o melhor conjunto de parâmetros consoante o score. \n",
    "\n",
    "Foram realizados multiplos teste de modo a obter as melhores combinações de parametros para os diversos classificadores\n"
   ]
  },
  {
   "cell_type": "code",
   "execution_count": null,
   "metadata": {},
   "outputs": [],
   "source": [
    "X=clearText(docs)\n"
   ]
  },
  {
   "cell_type": "code",
   "execution_count": null,
   "metadata": {},
   "outputs": [],
   "source": [
    "ybin = transformYtoBinary(y)"
   ]
  },
  {
   "cell_type": "code",
   "execution_count": null,
   "metadata": {},
   "outputs": [],
   "source": [
    "\n",
    "#pipeline o modelo que queremos que seja testado\n",
    "pipeline =Pipeline([\n",
    "    ('tfidf' , TfidfVectorizer(min_df = 3, token_pattern=r'\\b\\w\\w\\w+\\b' )),\n",
    "    ('logReg' , LogisticRegression(penalty='l1',solver='saga',max_iter=1000,C=1,tol=1e-3,multi_class='ovr'))\n",
    "     ])\n",
    "\n",
    "pipelineBayes =Pipeline([\n",
    "    ('tfidf' , TfidfVectorizer(min_df = 3, token_pattern=r'\\b\\w\\w\\w+\\b', ngram_range=(1,3))),\n",
    "    ('bayes' , BernoulliNB(fit_prior=False, alpha=1.0))\n",
    "     ])\n",
    "\n",
    "pipelineRidge =Pipeline([\n",
    "    ('tfidf' , TfidfVectorizer(min_df = 3, token_pattern=r'\\b\\w\\w\\w+\\b',ngram_range=(1,2))),\n",
    "    ('ridge' , RidgeClassifier(alpha=1.8))\n",
    "     ])\n",
    "\n",
    "\n",
    "pipelineMuli =Pipeline([\n",
    "    ('tfidf' , TfidfVectorizer(min_df = 3, token_pattern=r'\\b\\w\\w\\w+\\b', ngram_range=(1,2) ) ),\n",
    "    ('multi' ,MultinomialNB(fit_prior=False, alpha=1.7))\n",
    "     ])\n",
    "\n",
    "\n",
    "#passado o dicionário de parâmetros que queremos que seja testado\n",
    "parameters  ={\n",
    "\n",
    "    #'tfidf_token_pattern'=r'\\b\\w\\w\\w+b',\n",
    "   # 'tfidf__min_df' : np.arange(1, 5, 1),\n",
    "    #'tfidf__norm' : ['l1', 'l2'],\n",
    "    'logReg__C' : np.linspace(0.5, 3, 20),\n",
    "   # 'logReg__penalty' : ['l1','l2']  \n",
    "}\n",
    "\n",
    "parametersBayes  ={\n",
    "\n",
    "    #'tfidf_token_pattern'=r'\\b\\w\\w\\w+b',\n",
    "\n",
    "    #'tfidf__norm' : ['l1', 'l2'],\n",
    "    'bayes__alpha' : np.linspace(0, 3, 15),\n",
    "}\n",
    "\n",
    "parametersMulti = {\n",
    "    \n",
    "    'multi__alpha' : np.linspace(0, 3, 15)\n",
    "}\n",
    "\n",
    "parametersRidge  ={\n",
    "\n",
    "    #'tfidf_token_pattern'=r'\\b\\w\\w\\w+b',\n",
    "\n",
    "    #'tfidf__norm' : ['l1', 'l2'],\n",
    "    'ridge__alpha' : np.linspace(0, 3, 15),    \n",
    "}\n",
    "\n",
    "\n",
    "\n",
    "#grid_search=RandomizedSearchCV(pipeline, parameters, cv = 3, n_jobs=-1, verbose=3,pre_dispatch=8,n_iter = 4 ).fit(X,y)\n",
    "\n",
    "grid_search=RandomizedSearchCV(pipelineRidge, parametersRidge, cv = 3, n_jobs=2, verbose=3,pre_dispatch=8,n_iter = 4 ).fit(X,y)\n",
    "\n",
    "\n",
    "\n",
    "\n"
   ]
  },
  {
   "cell_type": "code",
   "execution_count": null,
   "metadata": {},
   "outputs": [],
   "source": [
    "\n",
    "print(\" Resultados \" )\n",
    "print(\"\\n O melhor estimator\\n\", grid_search.best_estimator_)\n",
    "print(\"\\n o melhor score\\n\", grid_search.best_score_)\n",
    "print(\"\\n Os melhores parametros\\n\", grid_search.best_params_)\n",
    "print(grid_search.best_index_)\n"
   ]
  }
 ],
 "metadata": {
  "kernelspec": {
   "display_name": "Python 3",
   "language": "python",
   "name": "python3"
  },
  "language_info": {
   "codemirror_mode": {
    "name": "ipython",
    "version": 3
   },
   "file_extension": ".py",
   "mimetype": "text/x-python",
   "name": "python",
   "nbconvert_exporter": "python",
   "pygments_lexer": "ipython3",
   "version": "3.8.5"
  }
 },
 "nbformat": 4,
 "nbformat_minor": 4
}
